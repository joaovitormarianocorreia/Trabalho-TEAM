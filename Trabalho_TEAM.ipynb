{
  "nbformat": 4,
  "nbformat_minor": 0,
  "metadata": {
    "colab": {
      "name": "Trabalho TEAM.ipynb",
      "provenance": [],
      "collapsed_sections": [],
      "toc_visible": true
    },
    "kernelspec": {
      "name": "python3",
      "display_name": "Python 3"
    },
    "language_info": {
      "name": "python"
    }
  },
  "cells": [
    {
      "cell_type": "markdown",
      "source": [
        "# Importando as Bibliotecas"
      ],
      "metadata": {
        "id": "QwI-sc3-Eqgk"
      }
    },
    {
      "cell_type": "code",
      "source": [
        "import numpy as np\n",
        "import pandas as pd\n",
        "import matplotlib.pyplot as plt\n",
        "import seaborn as sns\n",
        "pd.set_option(\"display.max_columns\", None)\n"
      ],
      "metadata": {
        "id": "B532A7fiEvlC"
      },
      "execution_count": 1,
      "outputs": []
    },
    {
      "cell_type": "markdown",
      "source": [
        "# Análise Exploratória dos Dados"
      ],
      "metadata": {
        "id": "h8Vfh6D3lC1J"
      }
    },
    {
      "cell_type": "code",
      "execution_count": 2,
      "metadata": {
        "id": "1wFDWH3lEboK"
      },
      "outputs": [],
      "source": [
        "dataset = pd.read_csv(\"insurance.csv\")"
      ]
    },
    {
      "cell_type": "markdown",
      "source": [
        "## Exibindo informações relacionadas ao dataset."
      ],
      "metadata": {
        "id": "-AKuXA3vG4bF"
      }
    },
    {
      "cell_type": "code",
      "source": [
        "print(dataset.head())"
      ],
      "metadata": {
        "colab": {
          "base_uri": "https://localhost:8080/"
        },
        "id": "_2hEdCykFIHt",
        "outputId": "a680c2ba-e416-47dc-95d2-29c0f01da653"
      },
      "execution_count": 3,
      "outputs": [
        {
          "output_type": "stream",
          "name": "stdout",
          "text": [
            "   age     sex     bmi  children smoker     region      charges\n",
            "0   19  female  27.900         0    yes  southwest  16884.92400\n",
            "1   18    male  33.770         1     no  southeast   1725.55230\n",
            "2   28    male  33.000         3     no  southeast   4449.46200\n",
            "3   33    male  22.705         0     no  northwest  21984.47061\n",
            "4   32    male  28.880         0     no  northwest   3866.85520\n"
          ]
        }
      ]
    },
    {
      "cell_type": "code",
      "source": [
        "print(dataset.tail())"
      ],
      "metadata": {
        "colab": {
          "base_uri": "https://localhost:8080/"
        },
        "id": "gT4TihQLHIwI",
        "outputId": "099b1f61-7d29-4d80-afe4-f873343b0c64"
      },
      "execution_count": 4,
      "outputs": [
        {
          "output_type": "stream",
          "name": "stdout",
          "text": [
            "      age     sex    bmi  children smoker     region     charges\n",
            "1333   50    male  30.97         3     no  northwest  10600.5483\n",
            "1334   18  female  31.92         0     no  northeast   2205.9808\n",
            "1335   18  female  36.85         0     no  southeast   1629.8335\n",
            "1336   21  female  25.80         0     no  southwest   2007.9450\n",
            "1337   61  female  29.07         0    yes  northwest  29141.3603\n"
          ]
        }
      ]
    },
    {
      "cell_type": "code",
      "source": [
        "print(dataset.describe())"
      ],
      "metadata": {
        "colab": {
          "base_uri": "https://localhost:8080/"
        },
        "id": "MZ0pCT-CHMlu",
        "outputId": "efb89115-3bd7-425f-ac17-3686dfc2e591"
      },
      "execution_count": 5,
      "outputs": [
        {
          "output_type": "stream",
          "name": "stdout",
          "text": [
            "               age          bmi     children       charges\n",
            "count  1338.000000  1338.000000  1338.000000   1338.000000\n",
            "mean     39.207025    30.663397     1.094918  13270.422265\n",
            "std      14.049960     6.098187     1.205493  12110.011237\n",
            "min      18.000000    15.960000     0.000000   1121.873900\n",
            "25%      27.000000    26.296250     0.000000   4740.287150\n",
            "50%      39.000000    30.400000     1.000000   9382.033000\n",
            "75%      51.000000    34.693750     2.000000  16639.912515\n",
            "max      64.000000    53.130000     5.000000  63770.428010\n"
          ]
        }
      ]
    },
    {
      "cell_type": "code",
      "source": [
        "print(dataset.shape)"
      ],
      "metadata": {
        "colab": {
          "base_uri": "https://localhost:8080/"
        },
        "id": "sL8YL-sqHxJQ",
        "outputId": "bc22f14e-cb1d-4c17-cc89-7c225f1540e1"
      },
      "execution_count": 6,
      "outputs": [
        {
          "output_type": "stream",
          "name": "stdout",
          "text": [
            "(1338, 7)\n"
          ]
        }
      ]
    },
    {
      "cell_type": "code",
      "source": [
        "print(dataset.isnull().sum())"
      ],
      "metadata": {
        "colab": {
          "base_uri": "https://localhost:8080/"
        },
        "id": "-y9Qnc9hKHL4",
        "outputId": "ba39016f-56a2-41b2-e433-a5bdbac6e711"
      },
      "execution_count": 7,
      "outputs": [
        {
          "output_type": "stream",
          "name": "stdout",
          "text": [
            "age         0\n",
            "sex         0\n",
            "bmi         0\n",
            "children    0\n",
            "smoker      0\n",
            "region      0\n",
            "charges     0\n",
            "dtype: int64\n"
          ]
        }
      ]
    },
    {
      "cell_type": "markdown",
      "source": [
        "Podemos verificar através dos dados dispostos acima que o dataset possui 1338 linhas e 7 colunas, sendo as colunas referentes aos dados de idade, IMC, número de filhos, informação se a pessoa é fumante ou não, a região do país (Estados Unidos da América) em que se encontra e por fim o valor cobrado pelo seguro, baseado nos dados anteriormente citados. Podemos notar que o dataset é bem diverso, possuindo dados de pessoas de 18 à 64 anos. O dataset não possui dados em falta, dessa forma podemos prosseguir na análise"
      ],
      "metadata": {
        "id": "X778AT8vHXAW"
      }
    },
    {
      "cell_type": "code",
      "source": [
        "sns.countplot(x = 'smoker', data = dataset,\n",
        "              order = dataset['smoker'].value_counts(ascending=False)[0:20].index)\n",
        "plt.title('Distribuição dos dados entre fumantes e não fumantes')\n",
        "plt.xlabel('Fumante')\n",
        "plt.ylabel('Quantidade')\n",
        "plt.show()\n"
      ],
      "metadata": {
        "colab": {
          "base_uri": "https://localhost:8080/",
          "height": 295
        },
        "id": "a7AM0YiOYnU5",
        "outputId": "2a889bab-70a4-4b30-eb15-2d50b10e1465"
      },
      "execution_count": 8,
      "outputs": [
        {
          "output_type": "display_data",
          "data": {
            "image/png": "[encoded data removed]",
            "text/plain": [
              "<Figure size 432x288 with 1 Axes>"
            ]
          },
          "metadata": {
            "needs_background": "light"
          }
        }
      ]
    },
    {
      "cell_type": "code",
      "source": [
        "sns.countplot(x = 'sex', data = dataset,\n",
        "              order = dataset['sex'].value_counts(ascending=False)[0:20].index)\n",
        "plt.title('Distribuição dos dados entre gêneros')\n",
        "plt.xlabel('Sexo')\n",
        "plt.ylabel('Quantidade')\n",
        "plt.show()"
      ],
      "metadata": {
        "colab": {
          "base_uri": "https://localhost:8080/",
          "height": 295
        },
        "id": "eEXcCx7mZIId",
        "outputId": "90c1c069-dcc2-48f7-ac56-3aa28e3dc7fa"
      },
      "execution_count": 9,
      "outputs": [
        {
          "output_type": "display_data",
          "data": {
            "image/png": "[encoded data removed]",
            "text/plain": [
              "<Figure size 432x288 with 1 Axes>"
            ]
          },
          "metadata": {
            "needs_background": "light"
          }
        }
      ]
    },
    {
      "cell_type": "code",
      "source": [
        "sns.countplot(x = 'region',\n",
        "              data = dataset,\n",
        "              order = dataset['region'].value_counts(ascending=False)[0:20].index)\n",
        "plt.title('Distribuição dos dados entre regiões')\n",
        "plt.xlabel('Região')\n",
        "plt.ylabel('Quantidade')\n",
        "plt.show()"
      ],
      "metadata": {
        "colab": {
          "base_uri": "https://localhost:8080/",
          "height": 295
        },
        "id": "sBW_BwyaZeIk",
        "outputId": "16c32e0f-388a-46d9-d0b9-ec282340429e"
      },
      "execution_count": 10,
      "outputs": [
        {
          "output_type": "display_data",
          "data": {
            "image/png": "[encoded data removed]",
            "text/plain": [
              "<Figure size 432x288 with 1 Axes>"
            ]
          },
          "metadata": {
            "needs_background": "light"
          }
        }
      ]
    },
    {
      "cell_type": "code",
      "source": [
        "sns.barplot(x='smoker', y='charges', data=dataset)\n",
        "plt.title('Valores para fumantes e não fumantes')\n",
        "plt.xlabel('Fumante')\n",
        "plt.ylabel('Valor')\n",
        "plt.show()"
      ],
      "metadata": {
        "colab": {
          "base_uri": "https://localhost:8080/",
          "height": 295
        },
        "id": "RrqpsfI9ZoNR",
        "outputId": "15748de5-69a7-439c-fa6e-146a9933b97c"
      },
      "execution_count": 11,
      "outputs": [
        {
          "output_type": "display_data",
          "data": {
            "image/png": "[encoded data removed]",
            "text/plain": [
              "<Figure size 432x288 with 1 Axes>"
            ]
          },
          "metadata": {
            "needs_background": "light"
          }
        }
      ]
    },
    {
      "cell_type": "code",
      "source": [
        "sns.barplot(x='children', y='charges', data=dataset)\n",
        "plt.title('Valores de acordo com o número de filhos')\n",
        "plt.xlabel('Número de filhos')\n",
        "plt.ylabel('Valor')\n",
        "plt.show()"
      ],
      "metadata": {
        "colab": {
          "base_uri": "https://localhost:8080/",
          "height": 295
        },
        "id": "sOsMBxOqZ_i-",
        "outputId": "97f680e5-d6e3-4945-9b66-76ff8e6d7232"
      },
      "execution_count": 12,
      "outputs": [
        {
          "output_type": "display_data",
          "data": {
            "image/png": "[encoded data removed]",
            "text/plain": [
              "<Figure size 432x288 with 1 Axes>"
            ]
          },
          "metadata": {
            "needs_background": "light"
          }
        }
      ]
    },
    {
      "cell_type": "code",
      "source": [
        "sns.barplot(x='region', y='charges', data=dataset)\n",
        "plt.title('Valores de acordo com a região')\n",
        "plt.xlabel('Região')\n",
        "plt.ylabel('Valor')\n",
        "plt.show()"
      ],
      "metadata": {
        "colab": {
          "base_uri": "https://localhost:8080/",
          "height": 295
        },
        "id": "hDMGWEhfaUek",
        "outputId": "023ab904-1b35-4d95-cab2-18b41aea4463"
      },
      "execution_count": 13,
      "outputs": [
        {
          "output_type": "display_data",
          "data": {
            "image/png": "[encoded data removed]",
            "text/plain": [
              "<Figure size 432x288 with 1 Axes>"
            ]
          },
          "metadata": {
            "needs_background": "light"
          }
        }
      ]
    },
    {
      "cell_type": "code",
      "source": [
        "from sklearn.preprocessing import LabelEncoder\n",
        "cat_col = ['sex','smoker', 'region']\n",
        "le = LabelEncoder()\n",
        "df = dataset\n",
        "df[cat_col] = df[cat_col].apply(lambda col: le.fit_transform(col.astype(str)))"
      ],
      "metadata": {
        "id": "BpKcWUy5cODX"
      },
      "execution_count": 14,
      "outputs": []
    },
    {
      "cell_type": "code",
      "source": [
        "sns.heatmap(df.corr(),annot=True)\n",
        "plt.title('Heatmap de correlação')\n",
        "plt.show()"
      ],
      "metadata": {
        "colab": {
          "base_uri": "https://localhost:8080/",
          "height": 312
        },
        "id": "N5Vbr5WYazKI",
        "outputId": "e606b43b-d2d2-4c6f-a902-acab09d038dd"
      },
      "execution_count": 15,
      "outputs": [
        {
          "output_type": "display_data",
          "data": {
            "image/png": "[encoded data removed]",
            "text/plain": [
              "<Figure size 432x288 with 2 Axes>"
            ]
          },
          "metadata": {
            "needs_background": "light"
          }
        }
      ]
    },
    {
      "cell_type": "markdown",
      "source": [
        "# Regressão Linear"
      ],
      "metadata": {
        "id": "y3XBOew6W1GI"
      }
    },
    {
      "cell_type": "code",
      "source": [
        "from sklearn.preprocessing import PolynomialFeatures, StandardScaler\n",
        "from sklearn.model_selection import train_test_split\n",
        "from sklearn.decomposition import PCA\n",
        "from sklearn.linear_model import LinearRegression\n",
        "from sklearn.metrics import mean_squared_error, r2_score\n",
        "\n",
        "s = StandardScaler()\n",
        "X = dataset.drop(['charges', 'region', 'sex', 'children'], axis=1)\n",
        "y = dataset.charges\n",
        "\n",
        "# Add polynomial features\n",
        "pf = PolynomialFeatures(degree=2, include_bias=False)\n",
        "X_pf = pd.DataFrame(data=pf.fit_transform(X), columns=pf.get_feature_names(X.columns))\n",
        "\n",
        "# Create train and test sets\n",
        "X_train, X_test, y_train, y_test = train_test_split(X_pf, y, test_size=0.2, random_state=0)\n",
        "\n",
        "# Scale features\n",
        "X_train_scaled = s.fit_transform(X_train)\n",
        "X_test_scaled = s.transform(X_test)\n",
        "\n",
        "# PCA\n",
        "pca = PCA(.95)\n",
        "X_train_pca=pca.fit_transform(X_train_scaled)\n",
        "X_test_pca=pca.transform(X_test_scaled)\n",
        "\n",
        "# Linear Regression\n",
        "lr = LinearRegression().fit(X_train_pca, y_train)\n",
        "y_pred=lr.predict(X_test_pca)\n",
        "rmse=np.sqrt(mean_squared_error(y_test, y_pred)).round(2)\n",
        "r2=r2_score(y_test, y_pred)\n",
        "adj_r2 = 1 - (1-r2)*(len(y_test)-1)/(len(y_test)-X_test_pca.shape[1]-1)\n",
        "\n",
        "print(rmse)\n",
        "print(r2)\n",
        "print(adj_r2)\n"
      ],
      "metadata": {
        "colab": {
          "base_uri": "https://localhost:8080/"
        },
        "id": "id_hDARxY7pJ",
        "outputId": "75eb4e94-0915-4204-f0b1-4ef5797e1489"
      },
      "execution_count": 23,
      "outputs": [
        {
          "output_type": "stream",
          "name": "stdout",
          "text": [
            "5417.5\n",
            "0.8155642026419513\n",
            "0.8134683413083371\n"
          ]
        },
        {
          "output_type": "stream",
          "name": "stderr",
          "text": [
            "/usr/local/lib/python3.7/dist-packages/sklearn/utils/deprecation.py:87: FutureWarning: Function get_feature_names is deprecated; get_feature_names is deprecated in 1.0 and will be removed in 1.2. Please use get_feature_names_out instead.\n",
            "  warnings.warn(msg, category=FutureWarning)\n"
          ]
        }
      ]
    },
    {
      "cell_type": "markdown",
      "source": [
        "# Máquinas de Vetores de Suporte"
      ],
      "metadata": {
        "id": "Zb9ypBBr9FnF"
      }
    },
    {
      "cell_type": "code",
      "source": [
        "from sklearn.model_selection import RandomizedSearchCV\n",
        "from sklearn.svm import SVR\n",
        "\n",
        "X = dataset.drop(['charges', 'region', 'sex', 'children'], axis=1)\n",
        "y = dataset.charges\n",
        "\n",
        "# Add polynomial features\n",
        "pf = PolynomialFeatures(degree=2, include_bias=False)\n",
        "X_pf = pd.DataFrame(data=pf.fit_transform(X), columns=pf.get_feature_names(X.columns))\n",
        "\n",
        "# Create train and test sets\n",
        "X_train, X_test, y_train, y_test = train_test_split(X_pf, y, test_size=0.2, random_state=1)\n",
        "X_train = pd.DataFrame(X_train, columns = X_pf.columns)\n",
        "X_test = pd.DataFrame(X_test, columns = X_pf.columns)\n",
        "\n",
        "# Scale features\n",
        "X_train = pd.DataFrame(data=s.fit_transform(X_train), columns=X_pf.columns)\n",
        "X_test = pd.DataFrame(data=s.transform(X_test), columns=X_pf.columns)\n",
        "\n",
        "# Tuning Params\n",
        "grid = {'kernel':['linear','rbf','poly','sigmoid'],\n",
        "        'C': np.logspace(-3, 3, 10),\n",
        "        'gamma':np.logspace(-3, 3, 10)}\n",
        "svm = SVR()\n",
        "svm_cv=RandomizedSearchCV(estimator=svm, param_distributions=grid, scoring='neg_mean_squared_error', \n",
        "                          n_iter=10, cv=3, random_state=21, n_jobs=-1)\n",
        "svm_cv.fit(X_train, y_train)\n",
        "y_pred=svm_cv.predict(X_test)\n",
        "rmse=np.sqrt(mean_squared_error(y_test, y_pred)).round(2)\n",
        "r2=r2_score(y_test, y_pred)\n",
        "adj_r2 = 1 - (1-r2)*(len(y_test)-1)/(len(y_test)-X_test.shape[1]-1)\n",
        "\n",
        "print(rmse)\n",
        "print(r2)\n",
        "print(adj_r2)"
      ],
      "metadata": {
        "colab": {
          "base_uri": "https://localhost:8080/"
        },
        "id": "foWE7BeIa5ip",
        "outputId": "0af1b392-76f4-4edc-a486-69712eeb98bd"
      },
      "execution_count": 21,
      "outputs": [
        {
          "output_type": "stream",
          "name": "stderr",
          "text": [
            "/usr/local/lib/python3.7/dist-packages/sklearn/utils/deprecation.py:87: FutureWarning: Function get_feature_names is deprecated; get_feature_names is deprecated in 1.0 and will be removed in 1.2. Please use get_feature_names_out instead.\n",
            "  warnings.warn(msg, category=FutureWarning)\n"
          ]
        },
        {
          "output_type": "stream",
          "name": "stdout",
          "text": [
            "4719.68\n",
            "0.8507821561274163\n",
            "0.845576882503954\n"
          ]
        }
      ]
    },
    {
      "cell_type": "markdown",
      "source": [
        "# KNN "
      ],
      "metadata": {
        "id": "wS_sJtpQO4Wj"
      }
    },
    {
      "cell_type": "code",
      "source": [
        "from sklearn.neighbors import KNeighborsRegressor\n",
        "\n",
        "X = dataset.drop(['charges', 'region', 'sex', 'children'], axis=1)\n",
        "y = dataset.charges\n",
        "\n",
        "pf = PolynomialFeatures(degree=2, include_bias=False)\n",
        "X_pf = pd.DataFrame(data=pf.fit_transform(X), columns=pf.get_feature_names(X.columns))\n",
        "\n",
        "X_train, X_test, y_train, y_test = train_test_split(X_pf, y, test_size=0.2, random_state=1)\n",
        "X_train = pd.DataFrame(X_train, columns = X_pf.columns)\n",
        "X_test = pd.DataFrame(X_test, columns = X_pf.columns)\n",
        "\n",
        "X_train = pd.DataFrame(data=s.fit_transform(X_train), columns=X_pf.columns)\n",
        "X_test = pd.DataFrame(data=s.transform(X_test), columns=X_pf.columns)\n",
        "\n",
        "# KNN\n",
        "grid = {'n_neighbors': range(2, 20),\n",
        "        'weights': ['uniform', 'distance'],\n",
        "        'algorithm': ['auto', 'ball_tree', 'kd_tree', 'brute'],\n",
        "        'leaf_size': [int(x) for x in np.linspace(10, 50, num = 5)],\n",
        "        'p': [1, 2]}\n",
        "knn=KNeighborsRegressor()\n",
        "knn_cv=RandomizedSearchCV(estimator=knn, param_distributions=grid, scoring='neg_mean_squared_error', \n",
        "                          n_iter=100, cv=3, random_state=21, n_jobs=-1)\n",
        "knn_cv.fit(X_train, y_train)\n",
        "y_pred=knn_cv.predict(X_test)\n",
        "rmse=np.sqrt(mean_squared_error(y_test, y_pred)).round(2)\n",
        "r2=r2_score(y_test, y_pred)\n",
        "adj_r2 = 1 - (1-r2)*(len(y_test)-1)/(len(y_test)-X_test.shape[1]-1)\n",
        "\n",
        "print(rmse)\n",
        "print(r2)\n",
        "print(adj_r2)"
      ],
      "metadata": {
        "colab": {
          "base_uri": "https://localhost:8080/"
        },
        "id": "_sYtfhbDO_xQ",
        "outputId": "927fd207-d536-4a5f-c43b-e267a7fa10aa"
      },
      "execution_count": 22,
      "outputs": [
        {
          "output_type": "stream",
          "name": "stderr",
          "text": [
            "/usr/local/lib/python3.7/dist-packages/sklearn/utils/deprecation.py:87: FutureWarning: Function get_feature_names is deprecated; get_feature_names is deprecated in 1.0 and will be removed in 1.2. Please use get_feature_names_out instead.\n",
            "  warnings.warn(msg, category=FutureWarning)\n"
          ]
        },
        {
          "output_type": "stream",
          "name": "stdout",
          "text": [
            "4568.15\n",
            "0.8602093397063835\n",
            "0.855332921324048\n"
          ]
        }
      ]
    }
  ]
}