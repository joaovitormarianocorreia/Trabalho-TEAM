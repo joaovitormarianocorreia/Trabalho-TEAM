{
  "nbformat": 4,
  "nbformat_minor": 0,
  "metadata": {
    "colab": {
      "name": "Trabalho TEAM.ipynb",
      "provenance": [],
      "collapsed_sections": []
    },
    "kernelspec": {
      "name": "python3",
      "display_name": "Python 3"
    },
    "language_info": {
      "name": "python"
    }
  },
  "cells": [
    {
      "cell_type": "markdown",
      "source": [
        "# Importando as Bibliotecas"
      ],
      "metadata": {
        "id": "QwI-sc3-Eqgk"
      }
    },
    {
      "cell_type": "code",
      "source": [
        "import numpy as np\n",
        "import pandas as pd\n",
        "import matplotlib.pyplot as plt\n",
        "import seaborn as sns\n",
        "pd.set_option(\"display.max_columns\", None)\n"
      ],
      "metadata": {
        "id": "B532A7fiEvlC"
      },
      "execution_count": 1,
      "outputs": []
    },
    {
      "cell_type": "markdown",
      "source": [
        "# Análise Exploratória dos Dados"
      ],
      "metadata": {
        "id": "h8Vfh6D3lC1J"
      }
    },
    {
      "cell_type": "code",
      "execution_count": 2,
      "metadata": {
        "id": "1wFDWH3lEboK"
      },
      "outputs": [],
      "source": [
        "dataset = pd.read_csv(\"insurance.csv\")"
      ]
    },
    {
      "cell_type": "markdown",
      "source": [
        "## Exibindo informações relacionadas ao dataset."
      ],
      "metadata": {
        "id": "-AKuXA3vG4bF"
      }
    },
    {
      "cell_type": "code",
      "source": [
        "print(dataset.head())"
      ],
      "metadata": {
        "colab": {
          "base_uri": "https://localhost:8080/"
        },
        "id": "_2hEdCykFIHt",
        "outputId": "cb1a5506-246a-46ab-e3d1-48095d790e2e"
      },
      "execution_count": 3,
      "outputs": [
        {
          "output_type": "stream",
          "name": "stdout",
          "text": [
            "   age     sex     bmi  children smoker     region      charges\n",
            "0   19  female  27.900         0    yes  southwest  16884.92400\n",
            "1   18    male  33.770         1     no  southeast   1725.55230\n",
            "2   28    male  33.000         3     no  southeast   4449.46200\n",
            "3   33    male  22.705         0     no  northwest  21984.47061\n",
            "4   32    male  28.880         0     no  northwest   3866.85520\n"
          ]
        }
      ]
    },
    {
      "cell_type": "code",
      "source": [
        "print(dataset.tail())"
      ],
      "metadata": {
        "colab": {
          "base_uri": "https://localhost:8080/"
        },
        "id": "gT4TihQLHIwI",
        "outputId": "aaf422ff-8947-40a8-ba44-606b03383a39"
      },
      "execution_count": 4,
      "outputs": [
        {
          "output_type": "stream",
          "name": "stdout",
          "text": [
            "      age     sex    bmi  children smoker     region     charges\n",
            "1333   50    male  30.97         3     no  northwest  10600.5483\n",
            "1334   18  female  31.92         0     no  northeast   2205.9808\n",
            "1335   18  female  36.85         0     no  southeast   1629.8335\n",
            "1336   21  female  25.80         0     no  southwest   2007.9450\n",
            "1337   61  female  29.07         0    yes  northwest  29141.3603\n"
          ]
        }
      ]
    },
    {
      "cell_type": "code",
      "source": [
        "print(dataset.describe())"
      ],
      "metadata": {
        "colab": {
          "base_uri": "https://localhost:8080/"
        },
        "id": "MZ0pCT-CHMlu",
        "outputId": "ed36d271-eb58-4c91-a666-5351b5a7f311"
      },
      "execution_count": 5,
      "outputs": [
        {
          "output_type": "stream",
          "name": "stdout",
          "text": [
            "               age          bmi     children       charges\n",
            "count  1338.000000  1338.000000  1338.000000   1338.000000\n",
            "mean     39.207025    30.663397     1.094918  13270.422265\n",
            "std      14.049960     6.098187     1.205493  12110.011237\n",
            "min      18.000000    15.960000     0.000000   1121.873900\n",
            "25%      27.000000    26.296250     0.000000   4740.287150\n",
            "50%      39.000000    30.400000     1.000000   9382.033000\n",
            "75%      51.000000    34.693750     2.000000  16639.912515\n",
            "max      64.000000    53.130000     5.000000  63770.428010\n"
          ]
        }
      ]
    },
    {
      "cell_type": "code",
      "source": [
        "print(dataset.shape)"
      ],
      "metadata": {
        "colab": {
          "base_uri": "https://localhost:8080/"
        },
        "id": "sL8YL-sqHxJQ",
        "outputId": "f623ae76-15d5-4d22-9565-7742384e0d8f"
      },
      "execution_count": 6,
      "outputs": [
        {
          "output_type": "stream",
          "name": "stdout",
          "text": [
            "(1338, 7)\n"
          ]
        }
      ]
    },
    {
      "cell_type": "code",
      "source": [
        "print(dataset.isnull().sum())"
      ],
      "metadata": {
        "colab": {
          "base_uri": "https://localhost:8080/"
        },
        "id": "-y9Qnc9hKHL4",
        "outputId": "781068bb-8055-432a-c730-74987fdd494b"
      },
      "execution_count": 7,
      "outputs": [
        {
          "output_type": "stream",
          "name": "stdout",
          "text": [
            "age         0\n",
            "sex         0\n",
            "bmi         0\n",
            "children    0\n",
            "smoker      0\n",
            "region      0\n",
            "charges     0\n",
            "dtype: int64\n"
          ]
        }
      ]
    },
    {
      "cell_type": "markdown",
      "source": [
        "Podemos verificar através dos dados dispostos acima que o dataset possui 1338 linhas e 7 colunas, sendo as colunas referentes aos dados de idade, IMC, número de filhos, informação se a pessoa é fumante ou não, a região do país (Estados Unidos da América) em que se encontra e por fim o valor cobrado pelo seguro, baseado nos dados anteriormente citados. Podemos notar que o dataset é bem diverso, possuindo dados de pessoas de 18 à 64 anos. O dataset não possui dados em falta, dessa forma podemos prosseguir na análise"
      ],
      "metadata": {
        "id": "X778AT8vHXAW"
      }
    },
    {
      "cell_type": "code",
      "source": [
        "sns.countplot(x = 'smoker', data = dataset,\n",
        "              order = dataset['smoker'].value_counts(ascending=False)[0:20].index)\n",
        "plt.title('Distribuição dos dados entre fumantes e não fumantes')\n",
        "plt.xlabel('Fumante')\n",
        "plt.ylabel('Quantidade')\n",
        "plt.show()\n"
      ],
      "metadata": {
        "colab": {
          "base_uri": "https://localhost:8080/",
          "height": 0
        },
        "id": "a7AM0YiOYnU5",
        "outputId": "6f79181b-d3b6-47d6-b160-39bba36e16b5"
      },
      "execution_count": 8,
      "outputs": [
        {
          "output_type": "display_data",
          "data": {
            "image/png": "[encoded data removed]",
            "text/plain": [
              "<Figure size 432x288 with 1 Axes>"
            ]
          },
          "metadata": {
            "needs_background": "light"
          }
        }
      ]
    },
    {
      "cell_type": "code",
      "source": [
        "sns.countplot(x = 'sex', data = dataset,\n",
        "              order = dataset['sex'].value_counts(ascending=False)[0:20].index)\n",
        "plt.title('Distribuição dos dados entre gêneros')\n",
        "plt.xlabel('Sexo')\n",
        "plt.ylabel('Quantidade')\n",
        "plt.show()"
      ],
      "metadata": {
        "colab": {
          "base_uri": "https://localhost:8080/",
          "height": 0
        },
        "id": "eEXcCx7mZIId",
        "outputId": "c5fc2774-236a-4a83-df97-663be02766e7"
      },
      "execution_count": 9,
      "outputs": [
        {
          "output_type": "display_data",
          "data": {
            "image/png": "[encoded data removed]",
            "text/plain": [
              "<Figure size 432x288 with 1 Axes>"
            ]
          },
          "metadata": {
            "needs_background": "light"
          }
        }
      ]
    },
    {
      "cell_type": "code",
      "source": [
        "sns.countplot(x = 'region',\n",
        "              data = dataset,\n",
        "              order = dataset['region'].value_counts(ascending=False)[0:20].index)\n",
        "plt.title('Distribuição dos dados entre regiões')\n",
        "plt.xlabel('Região')\n",
        "plt.ylabel('Quantidade')\n",
        "plt.show()"
      ],
      "metadata": {
        "colab": {
          "base_uri": "https://localhost:8080/",
          "height": 0
        },
        "id": "sBW_BwyaZeIk",
        "outputId": "74ea347f-49c7-4f25-8376-6ae12056e245"
      },
      "execution_count": 10,
      "outputs": [
        {
          "output_type": "display_data",
          "data": {
            "image/png": "[encoded data removed]",
            "text/plain": [
              "<Figure size 432x288 with 1 Axes>"
            ]
          },
          "metadata": {
            "needs_background": "light"
          }
        }
      ]
    },
    {
      "cell_type": "code",
      "source": [
        "sns.barplot(x='smoker', y='charges', data=dataset)\n",
        "plt.title('Valores para fumantes e não fumantes')\n",
        "plt.xlabel('Fumante')\n",
        "plt.ylabel('Valor')\n",
        "plt.show()"
      ],
      "metadata": {
        "colab": {
          "base_uri": "https://localhost:8080/",
          "height": 0
        },
        "id": "RrqpsfI9ZoNR",
        "outputId": "037eadb8-b115-47a1-9ea4-fdda38685f70"
      },
      "execution_count": 11,
      "outputs": [
        {
          "output_type": "display_data",
          "data": {
            "image/png": "[encoded data removed]",
            "text/plain": [
              "<Figure size 432x288 with 1 Axes>"
            ]
          },
          "metadata": {
            "needs_background": "light"
          }
        }
      ]
    },
    {
      "cell_type": "code",
      "source": [
        "sns.barplot(x='children', y='charges', data=dataset)\n",
        "plt.title('Valores de acordo com o número de filhos')\n",
        "plt.xlabel('Número de filhos')\n",
        "plt.ylabel('Valor')\n",
        "plt.show()"
      ],
      "metadata": {
        "colab": {
          "base_uri": "https://localhost:8080/",
          "height": 0
        },
        "id": "sOsMBxOqZ_i-",
        "outputId": "8d9d1120-a2fe-4dcf-a540-296a19cff556"
      },
      "execution_count": 12,
      "outputs": [
        {
          "output_type": "display_data",
          "data": {
            "image/png": "[encoded data removed]",
            "text/plain": [
              "<Figure size 432x288 with 1 Axes>"
            ]
          },
          "metadata": {
            "needs_background": "light"
          }
        }
      ]
    },
    {
      "cell_type": "code",
      "source": [
        "sns.barplot(x='region', y='charges', data=dataset)\n",
        "plt.title('Valores de acordo com a região')\n",
        "plt.xlabel('Região')\n",
        "plt.ylabel('Valor')\n",
        "plt.show()"
      ],
      "metadata": {
        "colab": {
          "base_uri": "https://localhost:8080/",
          "height": 0
        },
        "id": "hDMGWEhfaUek",
        "outputId": "2f6b0577-4402-4e4a-d9c4-1b3e73d3ff87"
      },
      "execution_count": 13,
      "outputs": [
        {
          "output_type": "display_data",
          "data": {
            "image/png": "[encoded data removed]",
            "text/plain": [
              "<Figure size 432x288 with 1 Axes>"
            ]
          },
          "metadata": {
            "needs_background": "light"
          }
        }
      ]
    },
    {
      "cell_type": "code",
      "source": [
        "from sklearn.preprocessing import LabelEncoder\n",
        "cat_col = ['sex','smoker', 'region']\n",
        "le = LabelEncoder()\n",
        "df = dataset\n",
        "df[cat_col] = df[cat_col].apply(lambda col: le.fit_transform(col.astype(str)))"
      ],
      "metadata": {
        "id": "BpKcWUy5cODX"
      },
      "execution_count": 14,
      "outputs": []
    },
    {
      "cell_type": "code",
      "source": [
        "sns.heatmap(df.corr(),annot=True)\n",
        "plt.title('Heatmap de correlação')\n",
        "plt.show()"
      ],
      "metadata": {
        "colab": {
          "base_uri": "https://localhost:8080/",
          "height": 0
        },
        "id": "N5Vbr5WYazKI",
        "outputId": "11b8f9c4-71e4-4d64-abac-2833e0e02de5"
      },
      "execution_count": 15,
      "outputs": [
        {
          "output_type": "display_data",
          "data": {
            "image/png": "[encoded data removed]",
            "text/plain": [
              "<Figure size 432x288 with 2 Axes>"
            ]
          },
          "metadata": {
            "needs_background": "light"
          }
        }
      ]
    },
    {
      "cell_type": "markdown",
      "source": [
        "# Regressão Linear"
      ],
      "metadata": {
        "id": "y3XBOew6W1GI"
      }
    },
    {
      "cell_type": "code",
      "source": [
        "from sklearn.preprocessing import PolynomialFeatures, StandardScaler\n",
        "from sklearn.model_selection import train_test_split\n",
        "from sklearn.decomposition import PCA\n",
        "from sklearn.linear_model import LinearRegression\n",
        "from sklearn.metrics import mean_squared_error, r2_score\n",
        "\n",
        "s = StandardScaler()\n",
        "X = dataset.drop(['charges', 'region', 'sex', 'children'], axis=1)\n",
        "y = dataset.charges\n",
        "\n",
        "# Add polynomial features\n",
        "pf = PolynomialFeatures(degree=2, include_bias=False)\n",
        "X_pf = pd.DataFrame(data=pf.fit_transform(X), columns=pf.get_feature_names(X.columns))\n",
        "\n",
        "# Create train and test sets\n",
        "X_train, X_test, y_train, y_test = train_test_split(X_pf, y, test_size=0.2, random_state=0)\n",
        "\n",
        "# Scale features\n",
        "X_train_scaled = s.fit_transform(X_train)\n",
        "X_test_scaled = s.transform(X_test)\n",
        "\n",
        "# PCA\n",
        "pca = PCA(.95)\n",
        "X_train_pca=pca.fit_transform(X_train_scaled)\n",
        "X_test_pca=pca.transform(X_test_scaled)\n",
        "\n",
        "# Linear Regression\n",
        "lr = LinearRegression().fit(X_train_pca, y_train)\n",
        "y_pred=lr.predict(X_test_pca)\n",
        "rmse=np.sqrt(mean_squared_error(y_test, y_pred)).round(2)\n",
        "r2=r2_score(y_test, y_pred)\n",
        "adj_r2 = 1 - (1-r2)*(len(y_test)-1)/(len(y_test)-X_test_pca.shape[1]-1)\n",
        "\n",
        "print(rmse)\n",
        "print(r2)\n",
        "print(adj_r2)\n"
      ],
      "metadata": {
        "colab": {
          "base_uri": "https://localhost:8080/"
        },
        "id": "id_hDARxY7pJ",
        "outputId": "db770798-63f5-48c2-ba7a-5d4bd8be58c0"
      },
      "execution_count": 16,
      "outputs": [
        {
          "output_type": "stream",
          "name": "stdout",
          "text": [
            "5417.5\n",
            "0.8155642026419513\n",
            "0.8134683413083371\n"
          ]
        },
        {
          "output_type": "stream",
          "name": "stderr",
          "text": [
            "/usr/local/lib/python3.7/dist-packages/sklearn/utils/deprecation.py:87: FutureWarning: Function get_feature_names is deprecated; get_feature_names is deprecated in 1.0 and will be removed in 1.2. Please use get_feature_names_out instead.\n",
            "  warnings.warn(msg, category=FutureWarning)\n"
          ]
        }
      ]
    },
    {
      "cell_type": "markdown",
      "source": [
        "# Máquinas de Vetores de Suporte"
      ],
      "metadata": {
        "id": "Zb9ypBBr9FnF"
      }
    },
    {
      "cell_type": "code",
      "source": [
        "from sklearn.model_selection import RandomizedSearchCV\n",
        "from sklearn.svm import SVR\n",
        "\n",
        "X = dataset.drop(['charges', 'region', 'sex', 'children'], axis=1)\n",
        "y = dataset.charges\n",
        "\n",
        "# Add polynomial features\n",
        "pf = PolynomialFeatures(degree=2, include_bias=False)\n",
        "X_pf = pd.DataFrame(data=pf.fit_transform(X), columns=pf.get_feature_names(X.columns))\n",
        "\n",
        "# Create train and test sets\n",
        "X_train, X_test, y_train, y_test = train_test_split(X_pf, y, test_size=0.2, random_state=0)\n",
        "X_train = pd.DataFrame(X_train, columns = X_pf.columns)\n",
        "X_test = pd.DataFrame(X_test, columns = X_pf.columns)\n",
        "\n",
        "# Scale features\n",
        "X_train = pd.DataFrame(data=s.fit_transform(X_train), columns=X_pf.columns)\n",
        "X_test = pd.DataFrame(data=s.transform(X_test), columns=X_pf.columns)\n",
        "\n",
        "# Tuning Params\n",
        "grid = {'kernel':['linear','rbf','poly','sigmoid'],\n",
        "        'C': np.logspace(-3, 3, 10),\n",
        "        'gamma':np.logspace(-3, 3, 10)}\n",
        "svm = SVR()\n",
        "svm_cv=RandomizedSearchCV(estimator=svm, param_distributions=grid, scoring='neg_mean_squared_error', \n",
        "                          n_iter=10, cv=3, random_state=21, n_jobs=-1)\n",
        "svm_cv.fit(X_train, y_train)\n",
        "y_pred=svm_cv.predict(X_test)\n",
        "rmse=np.sqrt(mean_squared_error(y_test, y_pred)).round(2)\n",
        "r2=r2_score(y_test, y_pred)\n",
        "adj_r2 = 1 - (1-r2)*(len(y_test)-1)/(len(y_test)-X_test.shape[1]-1)\n",
        "\n",
        "print(rmse)\n",
        "print(r2)\n",
        "print(adj_r2)"
      ],
      "metadata": {
        "colab": {
          "base_uri": "https://localhost:8080/"
        },
        "id": "foWE7BeIa5ip",
        "outputId": "81bd3ec7-8642-4f23-ee09-76c46795bf58"
      },
      "execution_count": 17,
      "outputs": [
        {
          "output_type": "stream",
          "name": "stderr",
          "text": [
            "/usr/local/lib/python3.7/dist-packages/sklearn/utils/deprecation.py:87: FutureWarning: Function get_feature_names is deprecated; get_feature_names is deprecated in 1.0 and will be removed in 1.2. Please use get_feature_names_out instead.\n",
            "  warnings.warn(msg, category=FutureWarning)\n"
          ]
        },
        {
          "output_type": "stream",
          "name": "stdout",
          "text": [
            "4421.55\n",
            "0.8771436506212507\n",
            "0.8728579640150153\n"
          ]
        }
      ]
    },
    {
      "cell_type": "markdown",
      "source": [
        "# KNN "
      ],
      "metadata": {
        "id": "wS_sJtpQO4Wj"
      }
    },
    {
      "cell_type": "code",
      "source": [
        "from sklearn.neighbors import KNeighborsRegressor\n",
        "\n",
        "X = dataset.drop(['charges', 'region', 'sex', 'children'], axis=1)\n",
        "y = dataset.charges\n",
        "\n",
        "pf = PolynomialFeatures(degree=2, include_bias=False)\n",
        "X_pf = pd.DataFrame(data=pf.fit_transform(X), columns=pf.get_feature_names(X.columns))\n",
        "\n",
        "X_train, X_test, y_train, y_test = train_test_split(X_pf, y, test_size=0.2, random_state=0)\n",
        "X_train = pd.DataFrame(X_train, columns = X_pf.columns)\n",
        "X_test = pd.DataFrame(X_test, columns = X_pf.columns)\n",
        "\n",
        "X_train = pd.DataFrame(data=s.fit_transform(X_train), columns=X_pf.columns)\n",
        "X_test = pd.DataFrame(data=s.transform(X_test), columns=X_pf.columns)\n",
        "\n",
        "# KNN\n",
        "grid = {'n_neighbors': range(2, 20),\n",
        "        'weights': ['uniform', 'distance'],\n",
        "        'algorithm': ['auto', 'ball_tree', 'kd_tree', 'brute'],\n",
        "        'leaf_size': [int(x) for x in np.linspace(10, 50, num = 5)],\n",
        "        'p': [1, 2]}\n",
        "knn=KNeighborsRegressor()\n",
        "knn_cv=RandomizedSearchCV(estimator=knn, param_distributions=grid, scoring='neg_mean_squared_error', \n",
        "                          n_iter=100, cv=3, random_state=21, n_jobs=-1)\n",
        "knn_cv.fit(X_train, y_train)\n",
        "y_pred=knn_cv.predict(X_test)\n",
        "rmse=np.sqrt(mean_squared_error(y_test, y_pred)).round(2)\n",
        "r2=r2_score(y_test, y_pred)\n",
        "adj_r2 = 1 - (1-r2)*(len(y_test)-1)/(len(y_test)-X_test.shape[1]-1)\n",
        "\n",
        "print(rmse)\n",
        "print(r2)\n",
        "print(adj_r2)\n",
        "\n",
        "print(\"Best SVM Parameters:\\n\",knn_cv.best_params_)"
      ],
      "metadata": {
        "colab": {
          "base_uri": "https://localhost:8080/"
        },
        "id": "_sYtfhbDO_xQ",
        "outputId": "bfdad083-1258-446c-8356-f442db192f78"
      },
      "execution_count": 18,
      "outputs": [
        {
          "output_type": "stream",
          "name": "stderr",
          "text": [
            "/usr/local/lib/python3.7/dist-packages/sklearn/utils/deprecation.py:87: FutureWarning: Function get_feature_names is deprecated; get_feature_names is deprecated in 1.0 and will be removed in 1.2. Please use get_feature_names_out instead.\n",
            "  warnings.warn(msg, category=FutureWarning)\n"
          ]
        },
        {
          "output_type": "stream",
          "name": "stdout",
          "text": [
            "4277.58\n",
            "0.8850143356913734\n",
            "0.8810032078666539\n",
            "Best SVM Parameters:\n",
            " {'weights': 'uniform', 'p': 2, 'n_neighbors': 18, 'leaf_size': 50, 'algorithm': 'ball_tree'}\n"
          ]
        }
      ]
    }
  ]
}